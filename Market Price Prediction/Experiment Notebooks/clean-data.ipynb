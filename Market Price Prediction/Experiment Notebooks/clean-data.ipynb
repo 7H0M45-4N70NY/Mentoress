{
 "cells": [
  {
   "cell_type": "code",
   "execution_count": 25,
   "metadata": {
    "_cell_guid": "b1076dfc-b9ad-4769-8c92-a6c4dae69d19",
    "_uuid": "8f2839f25d086af736a60e9eeb907d3b93b6e0e5",
    "execution": {
     "iopub.execute_input": "2024-05-22T11:43:24.024951Z",
     "iopub.status.busy": "2024-05-22T11:43:24.024530Z",
     "iopub.status.idle": "2024-05-22T11:43:24.034445Z",
     "shell.execute_reply": "2024-05-22T11:43:24.032612Z",
     "shell.execute_reply.started": "2024-05-22T11:43:24.024921Z"
    }
   },
   "outputs": [],
   "source": [
    "import numpy as np # linear algebra\n",
    "import pandas as pd # data processing, CSV file I/O (e.g. pd.read_csv)"
   ]
  },
  {
   "cell_type": "code",
   "execution_count": 74,
   "metadata": {
    "execution": {
     "iopub.execute_input": "2024-05-22T12:13:17.948631Z",
     "iopub.status.busy": "2024-05-22T12:13:17.948144Z",
     "iopub.status.idle": "2024-05-22T12:13:17.981474Z",
     "shell.execute_reply": "2024-05-22T12:13:17.979894Z",
     "shell.execute_reply.started": "2024-05-22T12:13:17.948593Z"
    }
   },
   "outputs": [],
   "source": [
    "df=pd.read_csv(\"/kaggle/input/marketprediction/MarketPricePrediction.csv\")"
   ]
  },
  {
   "cell_type": "code",
   "execution_count": 75,
   "metadata": {
    "execution": {
     "iopub.execute_input": "2024-05-22T12:13:24.497813Z",
     "iopub.status.busy": "2024-05-22T12:13:24.496129Z",
     "iopub.status.idle": "2024-05-22T12:13:24.517217Z",
     "shell.execute_reply": "2024-05-22T12:13:24.516207Z",
     "shell.execute_reply.started": "2024-05-22T12:13:24.497748Z"
    }
   },
   "outputs": [
    {
     "data": {
      "text/html": [
       "<div>\n",
       "<style scoped>\n",
       "    .dataframe tbody tr th:only-of-type {\n",
       "        vertical-align: middle;\n",
       "    }\n",
       "\n",
       "    .dataframe tbody tr th {\n",
       "        vertical-align: top;\n",
       "    }\n",
       "\n",
       "    .dataframe thead th {\n",
       "        text-align: right;\n",
       "    }\n",
       "</style>\n",
       "<table border=\"1\" class=\"dataframe\">\n",
       "  <thead>\n",
       "    <tr style=\"text-align: right;\">\n",
       "      <th></th>\n",
       "      <th>market</th>\n",
       "      <th>month</th>\n",
       "      <th>year</th>\n",
       "      <th>quantity</th>\n",
       "      <th>priceMin</th>\n",
       "      <th>priceMax</th>\n",
       "      <th>priceMod</th>\n",
       "      <th>state</th>\n",
       "      <th>city</th>\n",
       "      <th>date</th>\n",
       "    </tr>\n",
       "  </thead>\n",
       "  <tbody>\n",
       "    <tr>\n",
       "      <th>0</th>\n",
       "      <td>ABOHAR(PB)</td>\n",
       "      <td>January</td>\n",
       "      <td>2005</td>\n",
       "      <td>2350</td>\n",
       "      <td>404</td>\n",
       "      <td>493</td>\n",
       "      <td>446</td>\n",
       "      <td>PB</td>\n",
       "      <td>ABOHAR</td>\n",
       "      <td>January-2005</td>\n",
       "    </tr>\n",
       "    <tr>\n",
       "      <th>1</th>\n",
       "      <td>ABOHAR(PB)</td>\n",
       "      <td>January</td>\n",
       "      <td>2006</td>\n",
       "      <td>900</td>\n",
       "      <td>487</td>\n",
       "      <td>638</td>\n",
       "      <td>563</td>\n",
       "      <td>PB</td>\n",
       "      <td>ABOHAR</td>\n",
       "      <td>January-2006</td>\n",
       "    </tr>\n",
       "    <tr>\n",
       "      <th>2</th>\n",
       "      <td>ABOHAR(PB)</td>\n",
       "      <td>January</td>\n",
       "      <td>2010</td>\n",
       "      <td>790</td>\n",
       "      <td>1283</td>\n",
       "      <td>1592</td>\n",
       "      <td>1460</td>\n",
       "      <td>PB</td>\n",
       "      <td>ABOHAR</td>\n",
       "      <td>January-2010</td>\n",
       "    </tr>\n",
       "    <tr>\n",
       "      <th>3</th>\n",
       "      <td>ABOHAR(PB)</td>\n",
       "      <td>January</td>\n",
       "      <td>2011</td>\n",
       "      <td>245</td>\n",
       "      <td>3067</td>\n",
       "      <td>3750</td>\n",
       "      <td>3433</td>\n",
       "      <td>PB</td>\n",
       "      <td>ABOHAR</td>\n",
       "      <td>January-2011</td>\n",
       "    </tr>\n",
       "    <tr>\n",
       "      <th>4</th>\n",
       "      <td>ABOHAR(PB)</td>\n",
       "      <td>January</td>\n",
       "      <td>2012</td>\n",
       "      <td>1035</td>\n",
       "      <td>523</td>\n",
       "      <td>686</td>\n",
       "      <td>605</td>\n",
       "      <td>PB</td>\n",
       "      <td>ABOHAR</td>\n",
       "      <td>January-2012</td>\n",
       "    </tr>\n",
       "  </tbody>\n",
       "</table>\n",
       "</div>"
      ],
      "text/plain": [
       "       market    month  year  quantity  priceMin  priceMax  priceMod state  \\\n",
       "0  ABOHAR(PB)  January  2005      2350       404       493       446    PB   \n",
       "1  ABOHAR(PB)  January  2006       900       487       638       563    PB   \n",
       "2  ABOHAR(PB)  January  2010       790      1283      1592      1460    PB   \n",
       "3  ABOHAR(PB)  January  2011       245      3067      3750      3433    PB   \n",
       "4  ABOHAR(PB)  January  2012      1035       523       686       605    PB   \n",
       "\n",
       "     city          date  \n",
       "0  ABOHAR  January-2005  \n",
       "1  ABOHAR  January-2006  \n",
       "2  ABOHAR  January-2010  \n",
       "3  ABOHAR  January-2011  \n",
       "4  ABOHAR  January-2012  "
      ]
     },
     "execution_count": 75,
     "metadata": {},
     "output_type": "execute_result"
    }
   ],
   "source": [
    "df.head()"
   ]
  },
  {
   "cell_type": "code",
   "execution_count": 76,
   "metadata": {
    "execution": {
     "iopub.execute_input": "2024-05-22T12:13:24.830227Z",
     "iopub.status.busy": "2024-05-22T12:13:24.829778Z",
     "iopub.status.idle": "2024-05-22T12:13:24.863811Z",
     "shell.execute_reply": "2024-05-22T12:13:24.862359Z",
     "shell.execute_reply.started": "2024-05-22T12:13:24.830196Z"
    }
   },
   "outputs": [],
   "source": [
    "df['date']=pd.to_datetime(df['date'])"
   ]
  },
  {
   "cell_type": "code",
   "execution_count": 77,
   "metadata": {
    "execution": {
     "iopub.execute_input": "2024-05-22T12:13:25.421446Z",
     "iopub.status.busy": "2024-05-22T12:13:25.421002Z",
     "iopub.status.idle": "2024-05-22T12:13:25.440971Z",
     "shell.execute_reply": "2024-05-22T12:13:25.439040Z",
     "shell.execute_reply.started": "2024-05-22T12:13:25.421414Z"
    }
   },
   "outputs": [
    {
     "name": "stdout",
     "output_type": "stream",
     "text": [
      "<class 'pandas.core.frame.DataFrame'>\n",
      "RangeIndex: 10227 entries, 0 to 10226\n",
      "Data columns (total 10 columns):\n",
      " #   Column    Non-Null Count  Dtype         \n",
      "---  ------    --------------  -----         \n",
      " 0   market    10227 non-null  object        \n",
      " 1   month     10227 non-null  object        \n",
      " 2   year      10227 non-null  int64         \n",
      " 3   quantity  10227 non-null  int64         \n",
      " 4   priceMin  10227 non-null  int64         \n",
      " 5   priceMax  10227 non-null  int64         \n",
      " 6   priceMod  10227 non-null  int64         \n",
      " 7   state     10227 non-null  object        \n",
      " 8   city      10227 non-null  object        \n",
      " 9   date      10227 non-null  datetime64[ns]\n",
      "dtypes: datetime64[ns](1), int64(5), object(4)\n",
      "memory usage: 799.1+ KB\n"
     ]
    }
   ],
   "source": [
    "df.info()"
   ]
  },
  {
   "cell_type": "code",
   "execution_count": 78,
   "metadata": {
    "execution": {
     "iopub.execute_input": "2024-05-22T12:13:25.816675Z",
     "iopub.status.busy": "2024-05-22T12:13:25.816246Z",
     "iopub.status.idle": "2024-05-22T12:13:25.826084Z",
     "shell.execute_reply": "2024-05-22T12:13:25.823910Z",
     "shell.execute_reply.started": "2024-05-22T12:13:25.816642Z"
    }
   },
   "outputs": [],
   "source": [
    "new_df=df[df['date']>=\"2010-01-01\"]"
   ]
  },
  {
   "cell_type": "code",
   "execution_count": 79,
   "metadata": {
    "execution": {
     "iopub.execute_input": "2024-05-22T12:13:26.031421Z",
     "iopub.status.busy": "2024-05-22T12:13:26.030240Z",
     "iopub.status.idle": "2024-05-22T12:13:26.045918Z",
     "shell.execute_reply": "2024-05-22T12:13:26.044236Z",
     "shell.execute_reply.started": "2024-05-22T12:13:26.031369Z"
    }
   },
   "outputs": [
    {
     "data": {
      "text/plain": [
       "count                             4994\n",
       "mean     2013-03-13 15:25:52.743291904\n",
       "min                2010-01-01 00:00:00\n",
       "25%                2011-07-08 18:00:00\n",
       "50%                2013-04-01 00:00:00\n",
       "75%                2014-12-01 00:00:00\n",
       "max                2016-02-01 00:00:00\n",
       "Name: date, dtype: object"
      ]
     },
     "execution_count": 79,
     "metadata": {},
     "output_type": "execute_result"
    }
   ],
   "source": [
    "new_df['date'].describe()"
   ]
  },
  {
   "cell_type": "code",
   "execution_count": 80,
   "metadata": {
    "execution": {
     "iopub.execute_input": "2024-05-22T12:13:26.570647Z",
     "iopub.status.busy": "2024-05-22T12:13:26.570217Z",
     "iopub.status.idle": "2024-05-22T12:13:26.580268Z",
     "shell.execute_reply": "2024-05-22T12:13:26.578408Z",
     "shell.execute_reply.started": "2024-05-22T12:13:26.570615Z"
    }
   },
   "outputs": [],
   "source": [
    "filtered_df=new_df[new_df['market']==\"ABOHAR(PB)\"]"
   ]
  },
  {
   "cell_type": "code",
   "execution_count": 81,
   "metadata": {
    "execution": {
     "iopub.execute_input": "2024-05-22T12:13:28.001925Z",
     "iopub.status.busy": "2024-05-22T12:13:28.001415Z",
     "iopub.status.idle": "2024-05-22T12:13:28.016684Z",
     "shell.execute_reply": "2024-05-22T12:13:28.014824Z",
     "shell.execute_reply.started": "2024-05-22T12:13:28.001890Z"
    }
   },
   "outputs": [
    {
     "data": {
      "text/plain": [
       "DatetimeIndex(['2010-01-01', '2010-02-01', '2010-03-01', '2010-04-01',\n",
       "               '2010-05-01', '2010-06-01', '2010-07-01', '2010-08-01',\n",
       "               '2010-09-01', '2010-10-01', '2010-11-01', '2010-12-01',\n",
       "               '2011-01-01', '2011-02-01', '2011-03-01', '2011-04-01',\n",
       "               '2011-05-01', '2011-06-01', '2011-07-01', '2011-08-01',\n",
       "               '2011-09-01', '2011-10-01', '2011-11-01', '2011-12-01',\n",
       "               '2012-01-01', '2012-02-01', '2012-03-01', '2012-04-01',\n",
       "               '2012-05-01', '2012-06-01', '2012-07-01', '2012-08-01',\n",
       "               '2012-09-01', '2012-10-01', '2012-11-01', '2012-12-01',\n",
       "               '2013-01-01', '2013-02-01', '2013-03-01', '2013-04-01',\n",
       "               '2013-05-01', '2013-06-01', '2013-07-01', '2013-08-01',\n",
       "               '2013-09-01', '2013-10-01', '2013-11-01', '2013-12-01',\n",
       "               '2014-01-01', '2014-02-01', '2014-03-01', '2014-04-01',\n",
       "               '2014-05-01', '2014-06-01', '2014-07-01', '2014-08-01',\n",
       "               '2014-09-01', '2014-10-01', '2014-11-01', '2014-12-01',\n",
       "               '2015-01-01', '2015-02-01', '2015-03-01', '2015-04-01',\n",
       "               '2015-05-01', '2015-06-01', '2015-07-01'],\n",
       "              dtype='datetime64[ns]', freq='MS')"
      ]
     },
     "execution_count": 81,
     "metadata": {},
     "output_type": "execute_result"
    }
   ],
   "source": [
    "min_date=filtered_df['date'].min()\n",
    "max_date=filtered_df['date'].max()\n",
    "date_range=pd.date_range(start=min_date,end=max_date,freq=\"MS\")\n",
    "date_range"
   ]
  },
  {
   "cell_type": "code",
   "execution_count": 82,
   "metadata": {
    "execution": {
     "iopub.execute_input": "2024-05-22T12:14:00.781177Z",
     "iopub.status.busy": "2024-05-22T12:14:00.780647Z",
     "iopub.status.idle": "2024-05-22T12:14:00.790549Z",
     "shell.execute_reply": "2024-05-22T12:14:00.788695Z",
     "shell.execute_reply.started": "2024-05-22T12:14:00.781136Z"
    }
   },
   "outputs": [],
   "source": [
    "filtered_df.set_index(\"date\",drop=True,inplace=True)"
   ]
  },
  {
   "cell_type": "code",
   "execution_count": 83,
   "metadata": {
    "execution": {
     "iopub.execute_input": "2024-05-22T12:14:01.090411Z",
     "iopub.status.busy": "2024-05-22T12:14:01.089958Z",
     "iopub.status.idle": "2024-05-22T12:14:01.096577Z",
     "shell.execute_reply": "2024-05-22T12:14:01.095459Z",
     "shell.execute_reply.started": "2024-05-22T12:14:01.090376Z"
    }
   },
   "outputs": [],
   "source": [
    "missing_date=date_range[~date_range.isin(filtered_df.index)]"
   ]
  },
  {
   "cell_type": "code",
   "execution_count": 84,
   "metadata": {
    "execution": {
     "iopub.execute_input": "2024-05-22T12:14:01.366394Z",
     "iopub.status.busy": "2024-05-22T12:14:01.365947Z",
     "iopub.status.idle": "2024-05-22T12:14:01.375293Z",
     "shell.execute_reply": "2024-05-22T12:14:01.374243Z",
     "shell.execute_reply.started": "2024-05-22T12:14:01.366363Z"
    }
   },
   "outputs": [],
   "source": [
    "date_reindexed=filtered_df.reindex(date_range)\n",
    "data=date_reindexed.interpolate(method=\"linear\")"
   ]
  },
  {
   "cell_type": "code",
   "execution_count": 85,
   "metadata": {
    "execution": {
     "iopub.execute_input": "2024-05-22T12:14:01.850082Z",
     "iopub.status.busy": "2024-05-22T12:14:01.848938Z",
     "iopub.status.idle": "2024-05-22T12:14:01.860649Z",
     "shell.execute_reply": "2024-05-22T12:14:01.858908Z",
     "shell.execute_reply.started": "2024-05-22T12:14:01.850043Z"
    }
   },
   "outputs": [
    {
     "data": {
      "text/plain": [
       "market      1\n",
       "month       1\n",
       "year        0\n",
       "quantity    0\n",
       "priceMin    0\n",
       "priceMax    0\n",
       "priceMod    0\n",
       "state       1\n",
       "city        1\n",
       "dtype: int64"
      ]
     },
     "execution_count": 85,
     "metadata": {},
     "output_type": "execute_result"
    }
   ],
   "source": [
    "data.isna().sum()"
   ]
  },
  {
   "cell_type": "code",
   "execution_count": 86,
   "metadata": {
    "execution": {
     "iopub.execute_input": "2024-05-22T12:14:02.128902Z",
     "iopub.status.busy": "2024-05-22T12:14:02.128463Z",
     "iopub.status.idle": "2024-05-22T12:14:02.140352Z",
     "shell.execute_reply": "2024-05-22T12:14:02.138700Z",
     "shell.execute_reply.started": "2024-05-22T12:14:02.128869Z"
    }
   },
   "outputs": [
    {
     "data": {
      "text/plain": [
       "(66, 67)"
      ]
     },
     "execution_count": 86,
     "metadata": {},
     "output_type": "execute_result"
    }
   ],
   "source": [
    "len(filtered_df.index),len(data.index)"
   ]
  },
  {
   "cell_type": "code",
   "execution_count": 87,
   "metadata": {
    "execution": {
     "iopub.execute_input": "2024-05-22T12:14:02.529388Z",
     "iopub.status.busy": "2024-05-22T12:14:02.528930Z",
     "iopub.status.idle": "2024-05-22T12:14:02.546601Z",
     "shell.execute_reply": "2024-05-22T12:14:02.545193Z",
     "shell.execute_reply.started": "2024-05-22T12:14:02.529354Z"
    }
   },
   "outputs": [
    {
     "data": {
      "text/html": [
       "<div>\n",
       "<style scoped>\n",
       "    .dataframe tbody tr th:only-of-type {\n",
       "        vertical-align: middle;\n",
       "    }\n",
       "\n",
       "    .dataframe tbody tr th {\n",
       "        vertical-align: top;\n",
       "    }\n",
       "\n",
       "    .dataframe thead th {\n",
       "        text-align: right;\n",
       "    }\n",
       "</style>\n",
       "<table border=\"1\" class=\"dataframe\">\n",
       "  <thead>\n",
       "    <tr style=\"text-align: right;\">\n",
       "      <th></th>\n",
       "      <th>market</th>\n",
       "      <th>month</th>\n",
       "      <th>year</th>\n",
       "      <th>quantity</th>\n",
       "      <th>priceMin</th>\n",
       "      <th>priceMax</th>\n",
       "      <th>priceMod</th>\n",
       "      <th>state</th>\n",
       "      <th>city</th>\n",
       "      <th>date</th>\n",
       "    </tr>\n",
       "  </thead>\n",
       "  <tbody>\n",
       "    <tr>\n",
       "      <th>0</th>\n",
       "      <td>ABOHAR(PB)</td>\n",
       "      <td>January</td>\n",
       "      <td>2005</td>\n",
       "      <td>2350</td>\n",
       "      <td>404</td>\n",
       "      <td>493</td>\n",
       "      <td>446</td>\n",
       "      <td>PB</td>\n",
       "      <td>ABOHAR</td>\n",
       "      <td>2005-01-01</td>\n",
       "    </tr>\n",
       "    <tr>\n",
       "      <th>1</th>\n",
       "      <td>ABOHAR(PB)</td>\n",
       "      <td>January</td>\n",
       "      <td>2006</td>\n",
       "      <td>900</td>\n",
       "      <td>487</td>\n",
       "      <td>638</td>\n",
       "      <td>563</td>\n",
       "      <td>PB</td>\n",
       "      <td>ABOHAR</td>\n",
       "      <td>2006-01-01</td>\n",
       "    </tr>\n",
       "    <tr>\n",
       "      <th>2</th>\n",
       "      <td>ABOHAR(PB)</td>\n",
       "      <td>January</td>\n",
       "      <td>2010</td>\n",
       "      <td>790</td>\n",
       "      <td>1283</td>\n",
       "      <td>1592</td>\n",
       "      <td>1460</td>\n",
       "      <td>PB</td>\n",
       "      <td>ABOHAR</td>\n",
       "      <td>2010-01-01</td>\n",
       "    </tr>\n",
       "    <tr>\n",
       "      <th>3</th>\n",
       "      <td>ABOHAR(PB)</td>\n",
       "      <td>January</td>\n",
       "      <td>2011</td>\n",
       "      <td>245</td>\n",
       "      <td>3067</td>\n",
       "      <td>3750</td>\n",
       "      <td>3433</td>\n",
       "      <td>PB</td>\n",
       "      <td>ABOHAR</td>\n",
       "      <td>2011-01-01</td>\n",
       "    </tr>\n",
       "    <tr>\n",
       "      <th>4</th>\n",
       "      <td>ABOHAR(PB)</td>\n",
       "      <td>January</td>\n",
       "      <td>2012</td>\n",
       "      <td>1035</td>\n",
       "      <td>523</td>\n",
       "      <td>686</td>\n",
       "      <td>605</td>\n",
       "      <td>PB</td>\n",
       "      <td>ABOHAR</td>\n",
       "      <td>2012-01-01</td>\n",
       "    </tr>\n",
       "  </tbody>\n",
       "</table>\n",
       "</div>"
      ],
      "text/plain": [
       "       market    month  year  quantity  priceMin  priceMax  priceMod state  \\\n",
       "0  ABOHAR(PB)  January  2005      2350       404       493       446    PB   \n",
       "1  ABOHAR(PB)  January  2006       900       487       638       563    PB   \n",
       "2  ABOHAR(PB)  January  2010       790      1283      1592      1460    PB   \n",
       "3  ABOHAR(PB)  January  2011       245      3067      3750      3433    PB   \n",
       "4  ABOHAR(PB)  January  2012      1035       523       686       605    PB   \n",
       "\n",
       "     city       date  \n",
       "0  ABOHAR 2005-01-01  \n",
       "1  ABOHAR 2006-01-01  \n",
       "2  ABOHAR 2010-01-01  \n",
       "3  ABOHAR 2011-01-01  \n",
       "4  ABOHAR 2012-01-01  "
      ]
     },
     "execution_count": 87,
     "metadata": {},
     "output_type": "execute_result"
    }
   ],
   "source": [
    "df.head()"
   ]
  },
  {
   "cell_type": "code",
   "execution_count": 100,
   "metadata": {
    "execution": {
     "iopub.execute_input": "2024-05-22T12:17:35.464692Z",
     "iopub.status.busy": "2024-05-22T12:17:35.464067Z",
     "iopub.status.idle": "2024-05-22T12:17:36.587385Z",
     "shell.execute_reply": "2024-05-22T12:17:36.586216Z",
     "shell.execute_reply.started": "2024-05-22T12:17:35.464643Z"
    }
   },
   "outputs": [],
   "source": [
    "\n",
    "import warnings\n",
    "warnings.filterwarnings(\"ignore\")\n",
    "markets=df['market'].unique()\n",
    "cols=[\"market\",\"date\",\"quantity\",\"priceMin\",\"priceMax\",\"priceMod\"]\n",
    "df_list=[]\n",
    "for i in markets:\n",
    "    filtered_df=df[df[\"market\"]==i]\n",
    "    filtered_df=filtered_df[cols]\n",
    "    min_date=filtered_df['date'].min()\n",
    "    max_date=filtered_df['date'].max()\n",
    "    date_range=pd.date_range(start=min_date,end=max_date,freq=\"MS\")\n",
    "    filtered_df.set_index(\"date\",drop=True,inplace=True)\n",
    "    missing_date=date_range[~date_range.isin(filtered_df.index)]\n",
    "    date_reindexed=filtered_df.reindex(date_range)\n",
    "    data=date_reindexed.interpolate(method=\"linear\")\n",
    "    data['market']=data['market'].fillna(data['market'].mode())\n",
    "    df_list.append(data)"
   ]
  },
  {
   "cell_type": "code",
   "execution_count": 101,
   "metadata": {
    "execution": {
     "iopub.execute_input": "2024-05-22T12:17:37.398645Z",
     "iopub.status.busy": "2024-05-22T12:17:37.397810Z",
     "iopub.status.idle": "2024-05-22T12:17:37.413930Z",
     "shell.execute_reply": "2024-05-22T12:17:37.412878Z",
     "shell.execute_reply.started": "2024-05-22T12:17:37.398588Z"
    }
   },
   "outputs": [],
   "source": [
    "cleaned_df=pd.concat(df_list,axis=0)"
   ]
  },
  {
   "cell_type": "code",
   "execution_count": 102,
   "metadata": {
    "execution": {
     "iopub.execute_input": "2024-05-22T12:17:37.876824Z",
     "iopub.status.busy": "2024-05-22T12:17:37.876402Z",
     "iopub.status.idle": "2024-05-22T12:17:37.887883Z",
     "shell.execute_reply": "2024-05-22T12:17:37.885597Z",
     "shell.execute_reply.started": "2024-05-22T12:17:37.876790Z"
    }
   },
   "outputs": [],
   "source": [
    "cleaned_df['market'].fillna(method=\"ffill\",inplace=True)"
   ]
  },
  {
   "cell_type": "code",
   "execution_count": 103,
   "metadata": {
    "execution": {
     "iopub.execute_input": "2024-05-22T12:17:38.216084Z",
     "iopub.status.busy": "2024-05-22T12:17:38.215649Z",
     "iopub.status.idle": "2024-05-22T12:17:38.228489Z",
     "shell.execute_reply": "2024-05-22T12:17:38.226922Z",
     "shell.execute_reply.started": "2024-05-22T12:17:38.216053Z"
    }
   },
   "outputs": [
    {
     "data": {
      "text/plain": [
       "array(['ABOHAR(PB)', 'AGRA(UP)', 'AHMEDABAD(GUJ)', 'AHMEDNAGAR(MS)',\n",
       "       'AJMER(RAJ)', 'ALIGARH(UP)', 'ALWAR(RAJ)', 'AMRITSAR(PB)',\n",
       "       'BALLIA(UP)', 'BANGALORE', 'BAREILLY(UP)', 'BELGAUM(KNT)',\n",
       "       'BHATINDA(PB)', 'BHAVNAGAR(GUJ)', 'BHOPAL', 'BHUBNESWER(OR)',\n",
       "       'BIHARSHARIF(BHR)', 'BIJAPUR(KNT)', 'BIKANER(RAJ)', 'BOMBORI(MS)',\n",
       "       'BURDWAN(WB)', 'CHAKAN(MS)', 'CHALLAKERE(KNT)', 'CHANDIGARH',\n",
       "       'CHANDVAD(MS)', 'CHENNAI', 'CHICKBALLAPUR(KNT)',\n",
       "       'COIMBATORE(TN) (bellary)', 'COIMBATORE(TN) (podisu)',\n",
       "       'DEESA(GUJ)', 'DEHRADOON(UTT)', 'DELHI', 'DEORIA(UP)',\n",
       "       'DEVALA(MS)', 'DEWAS(MP)', 'DHAVANGERE(KNT)', 'DHULIA(MS)',\n",
       "       'DINDIGUL(TN)', 'DINDIGUL(TN)(Podis', 'DINDORI(MS)', 'ETAWAH(UP)',\n",
       "       'GONDAL(GUJ)', 'GORAKHPUR(UP)', 'GUWAHATI', 'HALDWANI(UTT)',\n",
       "       'HASSAN(KNT)', 'HOSHIARPUR(PB)', 'HUBLI(KNT)', 'HYDERABAD',\n",
       "       'INDORE(MP)', 'JAIPUR', 'JALANDHAR(PB)', 'JALGAON(MS)',\n",
       "       'JALGAON(WHITE)', 'JAMMU', 'JAMNAGAR(GUJ)', 'JODHPUR(RAJ)',\n",
       "       'JUNNAR(MS)', 'KALVAN(MS)', 'KANPUR(UP)', 'KARNAL(HR)',\n",
       "       'KHANNA(PB)', 'KOLAR(KNT)', 'KOLHAPUR(MS)', 'KOLKATA',\n",
       "       'KOPERGAON(MS)', 'KOTA(RAJ)', 'KURNOOL(AP)', 'LASALGAON(MS)',\n",
       "       'LONAND(MS)', 'LUCKNOW', 'LUDHIANA(PB)', 'MADURAI(TN)',\n",
       "       'MAHUVA(GUJ)', 'MALEGAON(MS)', 'MANDSOUR(MP)', 'MANMAD(MS)',\n",
       "       'MEERUT(UP)', 'MIDNAPUR(WB)', 'MUMBAI', 'NAGPUR', 'NANDGAON(MS)',\n",
       "       'NASIK(MS)', 'NEEMUCH(MP)', 'NEWASA(MS)', 'NIPHAD(MS)',\n",
       "       'PALAYAM(KER)', 'PATIALA(PB)', 'PATNA', 'PHALTAN (MS)',\n",
       "       'PIMPALGAON(MS)', 'PUNE(MS)', 'PURULIA(WB)', 'RAHATA(MS)',\n",
       "       'RAHURI(MS)', 'RAICHUR(KNT)', 'RAIPUR(CHGARH)', 'RAJAHMUNDRY(AP)',\n",
       "       'RAJKOT(GUJ)', 'RANCHI(JH)', 'SAGAR(MP)', 'SAIKHEDA(MS)',\n",
       "       'SANGALI(MS)', 'SANGAMNER(MS)', 'SATANA(MS)', 'SHEROAPHULY(WB)',\n",
       "       'SHIMLA', 'SHRIRAMPUR(MS)', 'SINNAR(MS)', 'SOLAPUR(MS)',\n",
       "       'SRIGANGANAGAR(RAJ)', 'SRINAGAR', 'SRIRAMPUR(MS)', 'SURAT(GUJ)',\n",
       "       'TRIVENDRUM', 'UDAIPUR(RAJ)', 'UJJAIN(MP)', 'VANI(MS)',\n",
       "       'VARANASI(UP)', 'YEOLA(MS)'], dtype=object)"
      ]
     },
     "execution_count": 103,
     "metadata": {},
     "output_type": "execute_result"
    }
   ],
   "source": [
    "cleaned_df['market'].unique()"
   ]
  },
  {
   "cell_type": "code",
   "execution_count": 104,
   "metadata": {
    "execution": {
     "iopub.execute_input": "2024-05-22T12:17:38.776700Z",
     "iopub.status.busy": "2024-05-22T12:17:38.776294Z",
     "iopub.status.idle": "2024-05-22T12:17:38.795712Z",
     "shell.execute_reply": "2024-05-22T12:17:38.794056Z",
     "shell.execute_reply.started": "2024-05-22T12:17:38.776669Z"
    }
   },
   "outputs": [
    {
     "data": {
      "text/html": [
       "<div>\n",
       "<style scoped>\n",
       "    .dataframe tbody tr th:only-of-type {\n",
       "        vertical-align: middle;\n",
       "    }\n",
       "\n",
       "    .dataframe tbody tr th {\n",
       "        vertical-align: top;\n",
       "    }\n",
       "\n",
       "    .dataframe thead th {\n",
       "        text-align: right;\n",
       "    }\n",
       "</style>\n",
       "<table border=\"1\" class=\"dataframe\">\n",
       "  <thead>\n",
       "    <tr style=\"text-align: right;\">\n",
       "      <th></th>\n",
       "      <th>market</th>\n",
       "      <th>quantity</th>\n",
       "      <th>priceMin</th>\n",
       "      <th>priceMax</th>\n",
       "      <th>priceMod</th>\n",
       "    </tr>\n",
       "  </thead>\n",
       "  <tbody>\n",
       "    <tr>\n",
       "      <th>2005-01-01</th>\n",
       "      <td>ABOHAR(PB)</td>\n",
       "      <td>2350.0</td>\n",
       "      <td>404.0</td>\n",
       "      <td>493.0</td>\n",
       "      <td>446.0</td>\n",
       "    </tr>\n",
       "    <tr>\n",
       "      <th>2005-02-01</th>\n",
       "      <td>ABOHAR(PB)</td>\n",
       "      <td>1400.0</td>\n",
       "      <td>286.0</td>\n",
       "      <td>365.0</td>\n",
       "      <td>324.0</td>\n",
       "    </tr>\n",
       "    <tr>\n",
       "      <th>2005-03-01</th>\n",
       "      <td>ABOHAR(PB)</td>\n",
       "      <td>900.0</td>\n",
       "      <td>281.0</td>\n",
       "      <td>357.0</td>\n",
       "      <td>322.0</td>\n",
       "    </tr>\n",
       "    <tr>\n",
       "      <th>2005-04-01</th>\n",
       "      <td>ABOHAR(PB)</td>\n",
       "      <td>637.5</td>\n",
       "      <td>335.5</td>\n",
       "      <td>453.5</td>\n",
       "      <td>398.5</td>\n",
       "    </tr>\n",
       "    <tr>\n",
       "      <th>2005-05-01</th>\n",
       "      <td>ABOHAR(PB)</td>\n",
       "      <td>375.0</td>\n",
       "      <td>390.0</td>\n",
       "      <td>550.0</td>\n",
       "      <td>475.0</td>\n",
       "    </tr>\n",
       "  </tbody>\n",
       "</table>\n",
       "</div>"
      ],
      "text/plain": [
       "                market  quantity  priceMin  priceMax  priceMod\n",
       "2005-01-01  ABOHAR(PB)    2350.0     404.0     493.0     446.0\n",
       "2005-02-01  ABOHAR(PB)    1400.0     286.0     365.0     324.0\n",
       "2005-03-01  ABOHAR(PB)     900.0     281.0     357.0     322.0\n",
       "2005-04-01  ABOHAR(PB)     637.5     335.5     453.5     398.5\n",
       "2005-05-01  ABOHAR(PB)     375.0     390.0     550.0     475.0"
      ]
     },
     "execution_count": 104,
     "metadata": {},
     "output_type": "execute_result"
    }
   ],
   "source": [
    "cleaned_df.head()"
   ]
  },
  {
   "cell_type": "code",
   "execution_count": 109,
   "metadata": {
    "execution": {
     "iopub.execute_input": "2024-05-22T12:18:33.017736Z",
     "iopub.status.busy": "2024-05-22T12:18:33.017270Z",
     "iopub.status.idle": "2024-05-22T12:18:33.029148Z",
     "shell.execute_reply": "2024-05-22T12:18:33.027463Z",
     "shell.execute_reply.started": "2024-05-22T12:18:33.017696Z"
    }
   },
   "outputs": [],
   "source": [
    "market_df=cleaned_df[cleaned_df['market']=='SATANA(MS)']"
   ]
  },
  {
   "cell_type": "code",
   "execution_count": 110,
   "metadata": {
    "execution": {
     "iopub.execute_input": "2024-05-22T12:18:33.518032Z",
     "iopub.status.busy": "2024-05-22T12:18:33.517571Z",
     "iopub.status.idle": "2024-05-22T12:18:33.825182Z",
     "shell.execute_reply": "2024-05-22T12:18:33.823817Z",
     "shell.execute_reply.started": "2024-05-22T12:18:33.517997Z"
    }
   },
   "outputs": [
    {
     "data": {
      "text/plain": [
       "<Axes: >"
      ]
     },
     "execution_count": 110,
     "metadata": {},
     "output_type": "execute_result"
    },
    {
     "data": {
      "image/png": "[encoded data removed]",
      "text/plain": [
       "<Figure size 640x480 with 1 Axes>"
      ]
     },
     "metadata": {},
     "output_type": "display_data"
    }
   ],
   "source": [
    "market_df['priceMod'].plot()"
   ]
  },
  {
   "cell_type": "code",
   "execution_count": null,
   "metadata": {},
   "outputs": [],
   "source": [
    "from statsmodels.graphics.tsaplots import plot_acf,plot_pacf"
   ]
  },
  {
   "cell_type": "code",
   "execution_count": null,
   "metadata": {},
   "outputs": [],
   "source": []
  },
  {
   "cell_type": "code",
   "execution_count": null,
   "metadata": {},
   "outputs": [],
   "source": []
  },
  {
   "cell_type": "code",
   "execution_count": null,
   "metadata": {},
   "outputs": [],
   "source": []
  },
  {
   "cell_type": "code",
   "execution_count": null,
   "metadata": {},
   "outputs": [],
   "source": []
  }
 ],
 "metadata": {
  "kaggle": {
   "accelerator": "none",
   "dataSources": [
    {
     "datasetId": 5062074,
     "sourceId": 8485879,
     "sourceType": "datasetVersion"
    }
   ],
   "dockerImageVersionId": 30698,
   "isGpuEnabled": false,
   "isInternetEnabled": true,
   "language": "python",
   "sourceType": "notebook"
  },
  "kernelspec": {
   "display_name": "Python 3 (ipykernel)",
   "language": "python",
   "name": "python3"
  },
  "language_info": {
   "codemirror_mode": {
    "name": "ipython",
    "version": 3
   },
   "file_extension": ".py",
   "mimetype": "text/x-python",
   "name": "python",
   "nbconvert_exporter": "python",
   "pygments_lexer": "ipython3",
   "version": "3.11.7"
  }
 },
 "nbformat": 4,
 "nbformat_minor": 4
}
