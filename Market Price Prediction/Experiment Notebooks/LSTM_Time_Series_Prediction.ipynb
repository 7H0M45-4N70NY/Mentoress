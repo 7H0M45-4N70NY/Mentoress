{
  "nbformat": 4,
  "nbformat_minor": 0,
  "metadata": {
    "colab": {
      "provenance": []
    },
    "kernelspec": {
      "name": "python3",
      "display_name": "Python 3"
    },
    "language_info": {
      "name": "python"
    }
  },
  "cells": [
    {
      "cell_type": "code",
      "execution_count": 8,
      "metadata": {
        "id": "1p7RzMi9DLEa"
      },
      "outputs": [],
      "source": [
        "import pandas as pd\n",
        "import numpy as np\n",
        "import tensorflow as tf\n",
        "from tensorflow.keras.preprocessing.sequence import TimeseriesGenerator\n",
        "from tensorflow.keras.layers import Dense,LSTM\n",
        "from tensorflow.keras.models import Sequential"
      ]
    },
    {
      "cell_type": "code",
      "source": [
        "df=pd.read_csv(\"/content/MarketPricePrediction.csv\",parse_dates=['date'])"
      ],
      "metadata": {
        "id": "46_wh76wDtpo"
      },
      "execution_count": 12,
      "outputs": []
    },
    {
      "cell_type": "code",
      "source": [
        "import warnings\n",
        "warnings.filterwarnings(\"ignore\")\n",
        "markets=df['market'].unique()\n",
        "cols=[\"market\",\"date\",\"quantity\",\"priceMin\",\"priceMax\",\"priceMod\"]\n",
        "df_list=[]\n",
        "for i in markets:\n",
        "    filtered_df=df[df[\"market\"]==i]\n",
        "    filtered_df=filtered_df[cols]\n",
        "    min_date=filtered_df['date'].min()\n",
        "    max_date=filtered_df['date'].max()\n",
        "    date_range=pd.date_range(start=min_date,end=max_date,freq=\"MS\")\n",
        "    filtered_df.set_index(\"date\",drop=True,inplace=True)\n",
        "    missing_date=date_range[~date_range.isin(filtered_df.index)]\n",
        "    date_reindexed=filtered_df.reindex(date_range)\n",
        "    data=date_reindexed.interpolate(method=\"linear\")\n",
        "    data['market']=data['market'].fillna(data['market'].mode())\n",
        "    df_list.append(data)\n",
        "cleaned_df=pd.concat(df_list,axis=0)\n",
        "cleaned_df['market'].fillna(method=\"ffill\",inplace=True)"
      ],
      "metadata": {
        "id": "DTwxj0L_Ek41"
      },
      "execution_count": 13,
      "outputs": []
    },
    {
      "cell_type": "code",
      "source": [
        "cleaned_df"
      ],
      "metadata": {
        "colab": {
          "base_uri": "https://localhost:8080/",
          "height": 423
        },
        "id": "kEFP2vI0EmI7",
        "outputId": "84469228-07a9-49e3-9e84-ba8b80b9fff1"
      },
      "execution_count": 14,
      "outputs": [
        {
          "output_type": "execute_result",
          "data": {
            "text/plain": [
              "                market  quantity  priceMin  priceMax  priceMod\n",
              "2005-01-01  ABOHAR(PB)    2350.0     404.0     493.0     446.0\n",
              "2005-02-01  ABOHAR(PB)    1400.0     286.0     365.0     324.0\n",
              "2005-03-01  ABOHAR(PB)     900.0     281.0     357.0     322.0\n",
              "2005-04-01  ABOHAR(PB)     637.5     335.5     453.5     398.5\n",
              "2005-05-01  ABOHAR(PB)     375.0     390.0     550.0     475.0\n",
              "...                ...       ...       ...       ...       ...\n",
              "2015-10-01   YEOLA(MS)   15593.0    1046.0    3537.0    2886.0\n",
              "2015-11-01   YEOLA(MS)   62522.0    1003.0    2460.0    1996.0\n",
              "2015-12-01   YEOLA(MS)  223315.0     609.0    1446.0    1126.0\n",
              "2016-01-01   YEOLA(MS)  437432.0     437.0    1272.0    1034.0\n",
              "2016-02-01   YEOLA(MS)  272527.0     347.0     984.0     730.0\n",
              "\n",
              "[12434 rows x 5 columns]"
            ],
            "text/html": [
              "\n",
              "  <div id=\"df-7e3a3c8d-2dd4-4ac2-9060-7e0206ea634b\" class=\"colab-df-container\">\n",
              "    <div>\n",
              "<style scoped>\n",
              "    .dataframe tbody tr th:only-of-type {\n",
              "        vertical-align: middle;\n",
              "    }\n",
              "\n",
              "    .dataframe tbody tr th {\n",
              "        vertical-align: top;\n",
              "    }\n",
              "\n",
              "    .dataframe thead th {\n",
              "        text-align: right;\n",
              "    }\n",
              "</style>\n",
              "<table border=\"1\" class=\"dataframe\">\n",
              "  <thead>\n",
              "    <tr style=\"text-align: right;\">\n",
              "      <th></th>\n",
              "      <th>market</th>\n",
              "      <th>quantity</th>\n",
              "      <th>priceMin</th>\n",
              "      <th>priceMax</th>\n",
              "      <th>priceMod</th>\n",
              "    </tr>\n",
              "  </thead>\n",
              "  <tbody>\n",
              "    <tr>\n",
              "      <th>2005-01-01</th>\n",
              "      <td>ABOHAR(PB)</td>\n",
              "      <td>2350.0</td>\n",
              "      <td>404.0</td>\n",
              "      <td>493.0</td>\n",
              "      <td>446.0</td>\n",
              "    </tr>\n",
              "    <tr>\n",
              "      <th>2005-02-01</th>\n",
              "      <td>ABOHAR(PB)</td>\n",
              "      <td>1400.0</td>\n",
              "      <td>286.0</td>\n",
              "      <td>365.0</td>\n",
              "      <td>324.0</td>\n",
              "    </tr>\n",
              "    <tr>\n",
              "      <th>2005-03-01</th>\n",
              "      <td>ABOHAR(PB)</td>\n",
              "      <td>900.0</td>\n",
              "      <td>281.0</td>\n",
              "      <td>357.0</td>\n",
              "      <td>322.0</td>\n",
              "    </tr>\n",
              "    <tr>\n",
              "      <th>2005-04-01</th>\n",
              "      <td>ABOHAR(PB)</td>\n",
              "      <td>637.5</td>\n",
              "      <td>335.5</td>\n",
              "      <td>453.5</td>\n",
              "      <td>398.5</td>\n",
              "    </tr>\n",
              "    <tr>\n",
              "      <th>2005-05-01</th>\n",
              "      <td>ABOHAR(PB)</td>\n",
              "      <td>375.0</td>\n",
              "      <td>390.0</td>\n",
              "      <td>550.0</td>\n",
              "      <td>475.0</td>\n",
              "    </tr>\n",
              "    <tr>\n",
              "      <th>...</th>\n",
              "      <td>...</td>\n",
              "      <td>...</td>\n",
              "      <td>...</td>\n",
              "      <td>...</td>\n",
              "      <td>...</td>\n",
              "    </tr>\n",
              "    <tr>\n",
              "      <th>2015-10-01</th>\n",
              "      <td>YEOLA(MS)</td>\n",
              "      <td>15593.0</td>\n",
              "      <td>1046.0</td>\n",
              "      <td>3537.0</td>\n",
              "      <td>2886.0</td>\n",
              "    </tr>\n",
              "    <tr>\n",
              "      <th>2015-11-01</th>\n",
              "      <td>YEOLA(MS)</td>\n",
              "      <td>62522.0</td>\n",
              "      <td>1003.0</td>\n",
              "      <td>2460.0</td>\n",
              "      <td>1996.0</td>\n",
              "    </tr>\n",
              "    <tr>\n",
              "      <th>2015-12-01</th>\n",
              "      <td>YEOLA(MS)</td>\n",
              "      <td>223315.0</td>\n",
              "      <td>609.0</td>\n",
              "      <td>1446.0</td>\n",
              "      <td>1126.0</td>\n",
              "    </tr>\n",
              "    <tr>\n",
              "      <th>2016-01-01</th>\n",
              "      <td>YEOLA(MS)</td>\n",
              "      <td>437432.0</td>\n",
              "      <td>437.0</td>\n",
              "      <td>1272.0</td>\n",
              "      <td>1034.0</td>\n",
              "    </tr>\n",
              "    <tr>\n",
              "      <th>2016-02-01</th>\n",
              "      <td>YEOLA(MS)</td>\n",
              "      <td>272527.0</td>\n",
              "      <td>347.0</td>\n",
              "      <td>984.0</td>\n",
              "      <td>730.0</td>\n",
              "    </tr>\n",
              "  </tbody>\n",
              "</table>\n",
              "<p>12434 rows × 5 columns</p>\n",
              "</div>\n",
              "    <div class=\"colab-df-buttons\">\n",
              "\n",
              "  <div class=\"colab-df-container\">\n",
              "    <button class=\"colab-df-convert\" onclick=\"convertToInteractive('df-7e3a3c8d-2dd4-4ac2-9060-7e0206ea634b')\"\n",
              "            title=\"Convert this dataframe to an interactive table.\"\n",
              "            style=\"display:none;\">\n",
              "\n",
              "  <svg xmlns=\"http://www.w3.org/2000/svg\" height=\"24px\" viewBox=\"0 -960 960 960\">\n",
              "    <path d=\"M120-120v-720h720v720H120Zm60-500h600v-160H180v160Zm220 220h160v-160H400v160Zm0 220h160v-160H400v160ZM180-400h160v-160H180v160Zm440 0h160v-160H620v160ZM180-180h160v-160H180v160Zm440 0h160v-160H620v160Z\"/>\n",
              "  </svg>\n",
              "    </button>\n",
              "\n",
              "  <style>\n",
              "    .colab-df-container {\n",
              "      display:flex;\n",
              "      gap: 12px;\n",
              "    }\n",
              "\n",
              "    .colab-df-convert {\n",
              "      background-color: #E8F0FE;\n",
              "      border: none;\n",
              "      border-radius: 50%;\n",
              "      cursor: pointer;\n",
              "      display: none;\n",
              "      fill: #1967D2;\n",
              "      height: 32px;\n",
              "      padding: 0 0 0 0;\n",
              "      width: 32px;\n",
              "    }\n",
              "\n",
              "    .colab-df-convert:hover {\n",
              "      background-color: #E2EBFA;\n",
              "      box-shadow: 0px 1px 2px rgba(60, 64, 67, 0.3), 0px 1px 3px 1px rgba(60, 64, 67, 0.15);\n",
              "      fill: #174EA6;\n",
              "    }\n",
              "\n",
              "    .colab-df-buttons div {\n",
              "      margin-bottom: 4px;\n",
              "    }\n",
              "\n",
              "    [theme=dark] .colab-df-convert {\n",
              "      background-color: #3B4455;\n",
              "      fill: #D2E3FC;\n",
              "    }\n",
              "\n",
              "    [theme=dark] .colab-df-convert:hover {\n",
              "      background-color: #434B5C;\n",
              "      box-shadow: 0px 1px 3px 1px rgba(0, 0, 0, 0.15);\n",
              "      filter: drop-shadow(0px 1px 2px rgba(0, 0, 0, 0.3));\n",
              "      fill: #FFFFFF;\n",
              "    }\n",
              "  </style>\n",
              "\n",
              "    <script>\n",
              "      const buttonEl =\n",
              "        document.querySelector('#df-7e3a3c8d-2dd4-4ac2-9060-7e0206ea634b button.colab-df-convert');\n",
              "      buttonEl.style.display =\n",
              "        google.colab.kernel.accessAllowed ? 'block' : 'none';\n",
              "\n",
              "      async function convertToInteractive(key) {\n",
              "        const element = document.querySelector('#df-7e3a3c8d-2dd4-4ac2-9060-7e0206ea634b');\n",
              "        const dataTable =\n",
              "          await google.colab.kernel.invokeFunction('convertToInteractive',\n",
              "                                                    [key], {});\n",
              "        if (!dataTable) return;\n",
              "\n",
              "        const docLinkHtml = 'Like what you see? Visit the ' +\n",
              "          '<a target=\"_blank\" href=https://colab.research.google.com/notebooks/data_table.ipynb>data table notebook</a>'\n",
              "          + ' to learn more about interactive tables.';\n",
              "        element.innerHTML = '';\n",
              "        dataTable['output_type'] = 'display_data';\n",
              "        await google.colab.output.renderOutput(dataTable, element);\n",
              "        const docLink = document.createElement('div');\n",
              "        docLink.innerHTML = docLinkHtml;\n",
              "        element.appendChild(docLink);\n",
              "      }\n",
              "    </script>\n",
              "  </div>\n",
              "\n",
              "\n",
              "<div id=\"df-acd85db6-d887-4941-9e11-130c5890327a\">\n",
              "  <button class=\"colab-df-quickchart\" onclick=\"quickchart('df-acd85db6-d887-4941-9e11-130c5890327a')\"\n",
              "            title=\"Suggest charts\"\n",
              "            style=\"display:none;\">\n",
              "\n",
              "<svg xmlns=\"http://www.w3.org/2000/svg\" height=\"24px\"viewBox=\"0 0 24 24\"\n",
              "     width=\"24px\">\n",
              "    <g>\n",
              "        <path d=\"M19 3H5c-1.1 0-2 .9-2 2v14c0 1.1.9 2 2 2h14c1.1 0 2-.9 2-2V5c0-1.1-.9-2-2-2zM9 17H7v-7h2v7zm4 0h-2V7h2v10zm4 0h-2v-4h2v4z\"/>\n",
              "    </g>\n",
              "</svg>\n",
              "  </button>\n",
              "\n",
              "<style>\n",
              "  .colab-df-quickchart {\n",
              "      --bg-color: #E8F0FE;\n",
              "      --fill-color: #1967D2;\n",
              "      --hover-bg-color: #E2EBFA;\n",
              "      --hover-fill-color: #174EA6;\n",
              "      --disabled-fill-color: #AAA;\n",
              "      --disabled-bg-color: #DDD;\n",
              "  }\n",
              "\n",
              "  [theme=dark] .colab-df-quickchart {\n",
              "      --bg-color: #3B4455;\n",
              "      --fill-color: #D2E3FC;\n",
              "      --hover-bg-color: #434B5C;\n",
              "      --hover-fill-color: #FFFFFF;\n",
              "      --disabled-bg-color: #3B4455;\n",
              "      --disabled-fill-color: #666;\n",
              "  }\n",
              "\n",
              "  .colab-df-quickchart {\n",
              "    background-color: var(--bg-color);\n",
              "    border: none;\n",
              "    border-radius: 50%;\n",
              "    cursor: pointer;\n",
              "    display: none;\n",
              "    fill: var(--fill-color);\n",
              "    height: 32px;\n",
              "    padding: 0;\n",
              "    width: 32px;\n",
              "  }\n",
              "\n",
              "  .colab-df-quickchart:hover {\n",
              "    background-color: var(--hover-bg-color);\n",
              "    box-shadow: 0 1px 2px rgba(60, 64, 67, 0.3), 0 1px 3px 1px rgba(60, 64, 67, 0.15);\n",
              "    fill: var(--button-hover-fill-color);\n",
              "  }\n",
              "\n",
              "  .colab-df-quickchart-complete:disabled,\n",
              "  .colab-df-quickchart-complete:disabled:hover {\n",
              "    background-color: var(--disabled-bg-color);\n",
              "    fill: var(--disabled-fill-color);\n",
              "    box-shadow: none;\n",
              "  }\n",
              "\n",
              "  .colab-df-spinner {\n",
              "    border: 2px solid var(--fill-color);\n",
              "    border-color: transparent;\n",
              "    border-bottom-color: var(--fill-color);\n",
              "    animation:\n",
              "      spin 1s steps(1) infinite;\n",
              "  }\n",
              "\n",
              "  @keyframes spin {\n",
              "    0% {\n",
              "      border-color: transparent;\n",
              "      border-bottom-color: var(--fill-color);\n",
              "      border-left-color: var(--fill-color);\n",
              "    }\n",
              "    20% {\n",
              "      border-color: transparent;\n",
              "      border-left-color: var(--fill-color);\n",
              "      border-top-color: var(--fill-color);\n",
              "    }\n",
              "    30% {\n",
              "      border-color: transparent;\n",
              "      border-left-color: var(--fill-color);\n",
              "      border-top-color: var(--fill-color);\n",
              "      border-right-color: var(--fill-color);\n",
              "    }\n",
              "    40% {\n",
              "      border-color: transparent;\n",
              "      border-right-color: var(--fill-color);\n",
              "      border-top-color: var(--fill-color);\n",
              "    }\n",
              "    60% {\n",
              "      border-color: transparent;\n",
              "      border-right-color: var(--fill-color);\n",
              "    }\n",
              "    80% {\n",
              "      border-color: transparent;\n",
              "      border-right-color: var(--fill-color);\n",
              "      border-bottom-color: var(--fill-color);\n",
              "    }\n",
              "    90% {\n",
              "      border-color: transparent;\n",
              "      border-bottom-color: var(--fill-color);\n",
              "    }\n",
              "  }\n",
              "</style>\n",
              "\n",
              "  <script>\n",
              "    async function quickchart(key) {\n",
              "      const quickchartButtonEl =\n",
              "        document.querySelector('#' + key + ' button');\n",
              "      quickchartButtonEl.disabled = true;  // To prevent multiple clicks.\n",
              "      quickchartButtonEl.classList.add('colab-df-spinner');\n",
              "      try {\n",
              "        const charts = await google.colab.kernel.invokeFunction(\n",
              "            'suggestCharts', [key], {});\n",
              "      } catch (error) {\n",
              "        console.error('Error during call to suggestCharts:', error);\n",
              "      }\n",
              "      quickchartButtonEl.classList.remove('colab-df-spinner');\n",
              "      quickchartButtonEl.classList.add('colab-df-quickchart-complete');\n",
              "    }\n",
              "    (() => {\n",
              "      let quickchartButtonEl =\n",
              "        document.querySelector('#df-acd85db6-d887-4941-9e11-130c5890327a button');\n",
              "      quickchartButtonEl.style.display =\n",
              "        google.colab.kernel.accessAllowed ? 'block' : 'none';\n",
              "    })();\n",
              "  </script>\n",
              "</div>\n",
              "\n",
              "  <div id=\"id_2103b844-efc6-4337-b69e-19a2a1935aa2\">\n",
              "    <style>\n",
              "      .colab-df-generate {\n",
              "        background-color: #E8F0FE;\n",
              "        border: none;\n",
              "        border-radius: 50%;\n",
              "        cursor: pointer;\n",
              "        display: none;\n",
              "        fill: #1967D2;\n",
              "        height: 32px;\n",
              "        padding: 0 0 0 0;\n",
              "        width: 32px;\n",
              "      }\n",
              "\n",
              "      .colab-df-generate:hover {\n",
              "        background-color: #E2EBFA;\n",
              "        box-shadow: 0px 1px 2px rgba(60, 64, 67, 0.3), 0px 1px 3px 1px rgba(60, 64, 67, 0.15);\n",
              "        fill: #174EA6;\n",
              "      }\n",
              "\n",
              "      [theme=dark] .colab-df-generate {\n",
              "        background-color: #3B4455;\n",
              "        fill: #D2E3FC;\n",
              "      }\n",
              "\n",
              "      [theme=dark] .colab-df-generate:hover {\n",
              "        background-color: #434B5C;\n",
              "        box-shadow: 0px 1px 3px 1px rgba(0, 0, 0, 0.15);\n",
              "        filter: drop-shadow(0px 1px 2px rgba(0, 0, 0, 0.3));\n",
              "        fill: #FFFFFF;\n",
              "      }\n",
              "    </style>\n",
              "    <button class=\"colab-df-generate\" onclick=\"generateWithVariable('cleaned_df')\"\n",
              "            title=\"Generate code using this dataframe.\"\n",
              "            style=\"display:none;\">\n",
              "\n",
              "  <svg xmlns=\"http://www.w3.org/2000/svg\" height=\"24px\"viewBox=\"0 0 24 24\"\n",
              "       width=\"24px\">\n",
              "    <path d=\"M7,19H8.4L18.45,9,17,7.55,7,17.6ZM5,21V16.75L18.45,3.32a2,2,0,0,1,2.83,0l1.4,1.43a1.91,1.91,0,0,1,.58,1.4,1.91,1.91,0,0,1-.58,1.4L9.25,21ZM18.45,9,17,7.55Zm-12,3A5.31,5.31,0,0,0,4.9,8.1,5.31,5.31,0,0,0,1,6.5,5.31,5.31,0,0,0,4.9,4.9,5.31,5.31,0,0,0,6.5,1,5.31,5.31,0,0,0,8.1,4.9,5.31,5.31,0,0,0,12,6.5,5.46,5.46,0,0,0,6.5,12Z\"/>\n",
              "  </svg>\n",
              "    </button>\n",
              "    <script>\n",
              "      (() => {\n",
              "      const buttonEl =\n",
              "        document.querySelector('#id_2103b844-efc6-4337-b69e-19a2a1935aa2 button.colab-df-generate');\n",
              "      buttonEl.style.display =\n",
              "        google.colab.kernel.accessAllowed ? 'block' : 'none';\n",
              "\n",
              "      buttonEl.onclick = () => {\n",
              "        google.colab.notebook.generateWithVariable('cleaned_df');\n",
              "      }\n",
              "      })();\n",
              "    </script>\n",
              "  </div>\n",
              "\n",
              "    </div>\n",
              "  </div>\n"
            ],
            "application/vnd.google.colaboratory.intrinsic+json": {
              "type": "dataframe",
              "variable_name": "cleaned_df",
              "summary": "{\n  \"name\": \"cleaned_df\",\n  \"rows\": 12434,\n  \"fields\": [\n    {\n      \"column\": \"market\",\n      \"properties\": {\n        \"dtype\": \"category\",\n        \"num_unique_values\": 120,\n        \"samples\": [\n          \"HALDWANI(UTT)\",\n          \"HUBLI(KNT)\",\n          \"AJMER(RAJ)\"\n        ],\n        \"semantic_type\": \"\",\n        \"description\": \"\"\n      }\n    },\n    {\n      \"column\": \"quantity\",\n      \"properties\": {\n        \"dtype\": \"number\",\n        \"std\": 116131.61692649868,\n        \"min\": 20.0,\n        \"max\": 1639032.0,\n        \"num_unique_values\": 10619,\n        \"samples\": [\n          408437.0,\n          1860.0,\n          130950.0\n        ],\n        \"semantic_type\": \"\",\n        \"description\": \"\"\n      }\n    },\n    {\n      \"column\": \"priceMin\",\n      \"properties\": {\n        \"dtype\": \"number\",\n        \"std\": 700.7371956124116,\n        \"min\": 16.0,\n        \"max\": 6000.0,\n        \"num_unique_values\": 3555,\n        \"samples\": [\n          1407.0,\n          487.3333333333333,\n          571.3333333333334\n        ],\n        \"semantic_type\": \"\",\n        \"description\": \"\"\n      }\n    },\n    {\n      \"column\": \"priceMax\",\n      \"properties\": {\n        \"dtype\": \"number\",\n        \"std\": 1019.4177957814417,\n        \"min\": 145.0,\n        \"max\": 8192.0,\n        \"num_unique_values\": 4457,\n        \"samples\": [\n          3625.0,\n          1045.0,\n          2611.285714285714\n        ],\n        \"semantic_type\": \"\",\n        \"description\": \"\"\n      }\n    },\n    {\n      \"column\": \"priceMod\",\n      \"properties\": {\n        \"dtype\": \"number\",\n        \"std\": 845.5938829366988,\n        \"min\": 80.0,\n        \"max\": 6400.0,\n        \"num_unique_values\": 4057,\n        \"samples\": [\n          2712.5,\n          3203.0,\n          4044.0\n        ],\n        \"semantic_type\": \"\",\n        \"description\": \"\"\n      }\n    }\n  ]\n}"
            }
          },
          "metadata": {},
          "execution_count": 14
        }
      ]
    },
    {
      "cell_type": "code",
      "source": [
        "final_df=cleaned_df[cleaned_df[\"market\"]==\"ABOHAR(PB)\"][['priceMod']]"
      ],
      "metadata": {
        "id": "oMfJ0h0QE01G"
      },
      "execution_count": 18,
      "outputs": []
    },
    {
      "cell_type": "code",
      "source": [
        "final_df.head()"
      ],
      "metadata": {
        "colab": {
          "base_uri": "https://localhost:8080/",
          "height": 206
        },
        "id": "7rBdm9SYE7BB",
        "outputId": "b66d8d1a-1802-4817-f07b-cbb2150814cd"
      },
      "execution_count": 21,
      "outputs": [
        {
          "output_type": "execute_result",
          "data": {
            "text/plain": [
              "            priceMod\n",
              "2005-01-01     446.0\n",
              "2005-02-01     324.0\n",
              "2005-03-01     322.0\n",
              "2005-04-01     398.5\n",
              "2005-05-01     475.0"
            ],
            "text/html": [
              "\n",
              "  <div id=\"df-f1332822-8824-4fab-a23d-00826799f867\" class=\"colab-df-container\">\n",
              "    <div>\n",
              "<style scoped>\n",
              "    .dataframe tbody tr th:only-of-type {\n",
              "        vertical-align: middle;\n",
              "    }\n",
              "\n",
              "    .dataframe tbody tr th {\n",
              "        vertical-align: top;\n",
              "    }\n",
              "\n",
              "    .dataframe thead th {\n",
              "        text-align: right;\n",
              "    }\n",
              "</style>\n",
              "<table border=\"1\" class=\"dataframe\">\n",
              "  <thead>\n",
              "    <tr style=\"text-align: right;\">\n",
              "      <th></th>\n",
              "      <th>priceMod</th>\n",
              "    </tr>\n",
              "  </thead>\n",
              "  <tbody>\n",
              "    <tr>\n",
              "      <th>2005-01-01</th>\n",
              "      <td>446.0</td>\n",
              "    </tr>\n",
              "    <tr>\n",
              "      <th>2005-02-01</th>\n",
              "      <td>324.0</td>\n",
              "    </tr>\n",
              "    <tr>\n",
              "      <th>2005-03-01</th>\n",
              "      <td>322.0</td>\n",
              "    </tr>\n",
              "    <tr>\n",
              "      <th>2005-04-01</th>\n",
              "      <td>398.5</td>\n",
              "    </tr>\n",
              "    <tr>\n",
              "      <th>2005-05-01</th>\n",
              "      <td>475.0</td>\n",
              "    </tr>\n",
              "  </tbody>\n",
              "</table>\n",
              "</div>\n",
              "    <div class=\"colab-df-buttons\">\n",
              "\n",
              "  <div class=\"colab-df-container\">\n",
              "    <button class=\"colab-df-convert\" onclick=\"convertToInteractive('df-f1332822-8824-4fab-a23d-00826799f867')\"\n",
              "            title=\"Convert this dataframe to an interactive table.\"\n",
              "            style=\"display:none;\">\n",
              "\n",
              "  <svg xmlns=\"http://www.w3.org/2000/svg\" height=\"24px\" viewBox=\"0 -960 960 960\">\n",
              "    <path d=\"M120-120v-720h720v720H120Zm60-500h600v-160H180v160Zm220 220h160v-160H400v160Zm0 220h160v-160H400v160ZM180-400h160v-160H180v160Zm440 0h160v-160H620v160ZM180-180h160v-160H180v160Zm440 0h160v-160H620v160Z\"/>\n",
              "  </svg>\n",
              "    </button>\n",
              "\n",
              "  <style>\n",
              "    .colab-df-container {\n",
              "      display:flex;\n",
              "      gap: 12px;\n",
              "    }\n",
              "\n",
              "    .colab-df-convert {\n",
              "      background-color: #E8F0FE;\n",
              "      border: none;\n",
              "      border-radius: 50%;\n",
              "      cursor: pointer;\n",
              "      display: none;\n",
              "      fill: #1967D2;\n",
              "      height: 32px;\n",
              "      padding: 0 0 0 0;\n",
              "      width: 32px;\n",
              "    }\n",
              "\n",
              "    .colab-df-convert:hover {\n",
              "      background-color: #E2EBFA;\n",
              "      box-shadow: 0px 1px 2px rgba(60, 64, 67, 0.3), 0px 1px 3px 1px rgba(60, 64, 67, 0.15);\n",
              "      fill: #174EA6;\n",
              "    }\n",
              "\n",
              "    .colab-df-buttons div {\n",
              "      margin-bottom: 4px;\n",
              "    }\n",
              "\n",
              "    [theme=dark] .colab-df-convert {\n",
              "      background-color: #3B4455;\n",
              "      fill: #D2E3FC;\n",
              "    }\n",
              "\n",
              "    [theme=dark] .colab-df-convert:hover {\n",
              "      background-color: #434B5C;\n",
              "      box-shadow: 0px 1px 3px 1px rgba(0, 0, 0, 0.15);\n",
              "      filter: drop-shadow(0px 1px 2px rgba(0, 0, 0, 0.3));\n",
              "      fill: #FFFFFF;\n",
              "    }\n",
              "  </style>\n",
              "\n",
              "    <script>\n",
              "      const buttonEl =\n",
              "        document.querySelector('#df-f1332822-8824-4fab-a23d-00826799f867 button.colab-df-convert');\n",
              "      buttonEl.style.display =\n",
              "        google.colab.kernel.accessAllowed ? 'block' : 'none';\n",
              "\n",
              "      async function convertToInteractive(key) {\n",
              "        const element = document.querySelector('#df-f1332822-8824-4fab-a23d-00826799f867');\n",
              "        const dataTable =\n",
              "          await google.colab.kernel.invokeFunction('convertToInteractive',\n",
              "                                                    [key], {});\n",
              "        if (!dataTable) return;\n",
              "\n",
              "        const docLinkHtml = 'Like what you see? Visit the ' +\n",
              "          '<a target=\"_blank\" href=https://colab.research.google.com/notebooks/data_table.ipynb>data table notebook</a>'\n",
              "          + ' to learn more about interactive tables.';\n",
              "        element.innerHTML = '';\n",
              "        dataTable['output_type'] = 'display_data';\n",
              "        await google.colab.output.renderOutput(dataTable, element);\n",
              "        const docLink = document.createElement('div');\n",
              "        docLink.innerHTML = docLinkHtml;\n",
              "        element.appendChild(docLink);\n",
              "      }\n",
              "    </script>\n",
              "  </div>\n",
              "\n",
              "\n",
              "<div id=\"df-6cea6e7c-49a6-4030-a6bb-5ec7dc0591c0\">\n",
              "  <button class=\"colab-df-quickchart\" onclick=\"quickchart('df-6cea6e7c-49a6-4030-a6bb-5ec7dc0591c0')\"\n",
              "            title=\"Suggest charts\"\n",
              "            style=\"display:none;\">\n",
              "\n",
              "<svg xmlns=\"http://www.w3.org/2000/svg\" height=\"24px\"viewBox=\"0 0 24 24\"\n",
              "     width=\"24px\">\n",
              "    <g>\n",
              "        <path d=\"M19 3H5c-1.1 0-2 .9-2 2v14c0 1.1.9 2 2 2h14c1.1 0 2-.9 2-2V5c0-1.1-.9-2-2-2zM9 17H7v-7h2v7zm4 0h-2V7h2v10zm4 0h-2v-4h2v4z\"/>\n",
              "    </g>\n",
              "</svg>\n",
              "  </button>\n",
              "\n",
              "<style>\n",
              "  .colab-df-quickchart {\n",
              "      --bg-color: #E8F0FE;\n",
              "      --fill-color: #1967D2;\n",
              "      --hover-bg-color: #E2EBFA;\n",
              "      --hover-fill-color: #174EA6;\n",
              "      --disabled-fill-color: #AAA;\n",
              "      --disabled-bg-color: #DDD;\n",
              "  }\n",
              "\n",
              "  [theme=dark] .colab-df-quickchart {\n",
              "      --bg-color: #3B4455;\n",
              "      --fill-color: #D2E3FC;\n",
              "      --hover-bg-color: #434B5C;\n",
              "      --hover-fill-color: #FFFFFF;\n",
              "      --disabled-bg-color: #3B4455;\n",
              "      --disabled-fill-color: #666;\n",
              "  }\n",
              "\n",
              "  .colab-df-quickchart {\n",
              "    background-color: var(--bg-color);\n",
              "    border: none;\n",
              "    border-radius: 50%;\n",
              "    cursor: pointer;\n",
              "    display: none;\n",
              "    fill: var(--fill-color);\n",
              "    height: 32px;\n",
              "    padding: 0;\n",
              "    width: 32px;\n",
              "  }\n",
              "\n",
              "  .colab-df-quickchart:hover {\n",
              "    background-color: var(--hover-bg-color);\n",
              "    box-shadow: 0 1px 2px rgba(60, 64, 67, 0.3), 0 1px 3px 1px rgba(60, 64, 67, 0.15);\n",
              "    fill: var(--button-hover-fill-color);\n",
              "  }\n",
              "\n",
              "  .colab-df-quickchart-complete:disabled,\n",
              "  .colab-df-quickchart-complete:disabled:hover {\n",
              "    background-color: var(--disabled-bg-color);\n",
              "    fill: var(--disabled-fill-color);\n",
              "    box-shadow: none;\n",
              "  }\n",
              "\n",
              "  .colab-df-spinner {\n",
              "    border: 2px solid var(--fill-color);\n",
              "    border-color: transparent;\n",
              "    border-bottom-color: var(--fill-color);\n",
              "    animation:\n",
              "      spin 1s steps(1) infinite;\n",
              "  }\n",
              "\n",
              "  @keyframes spin {\n",
              "    0% {\n",
              "      border-color: transparent;\n",
              "      border-bottom-color: var(--fill-color);\n",
              "      border-left-color: var(--fill-color);\n",
              "    }\n",
              "    20% {\n",
              "      border-color: transparent;\n",
              "      border-left-color: var(--fill-color);\n",
              "      border-top-color: var(--fill-color);\n",
              "    }\n",
              "    30% {\n",
              "      border-color: transparent;\n",
              "      border-left-color: var(--fill-color);\n",
              "      border-top-color: var(--fill-color);\n",
              "      border-right-color: var(--fill-color);\n",
              "    }\n",
              "    40% {\n",
              "      border-color: transparent;\n",
              "      border-right-color: var(--fill-color);\n",
              "      border-top-color: var(--fill-color);\n",
              "    }\n",
              "    60% {\n",
              "      border-color: transparent;\n",
              "      border-right-color: var(--fill-color);\n",
              "    }\n",
              "    80% {\n",
              "      border-color: transparent;\n",
              "      border-right-color: var(--fill-color);\n",
              "      border-bottom-color: var(--fill-color);\n",
              "    }\n",
              "    90% {\n",
              "      border-color: transparent;\n",
              "      border-bottom-color: var(--fill-color);\n",
              "    }\n",
              "  }\n",
              "</style>\n",
              "\n",
              "  <script>\n",
              "    async function quickchart(key) {\n",
              "      const quickchartButtonEl =\n",
              "        document.querySelector('#' + key + ' button');\n",
              "      quickchartButtonEl.disabled = true;  // To prevent multiple clicks.\n",
              "      quickchartButtonEl.classList.add('colab-df-spinner');\n",
              "      try {\n",
              "        const charts = await google.colab.kernel.invokeFunction(\n",
              "            'suggestCharts', [key], {});\n",
              "      } catch (error) {\n",
              "        console.error('Error during call to suggestCharts:', error);\n",
              "      }\n",
              "      quickchartButtonEl.classList.remove('colab-df-spinner');\n",
              "      quickchartButtonEl.classList.add('colab-df-quickchart-complete');\n",
              "    }\n",
              "    (() => {\n",
              "      let quickchartButtonEl =\n",
              "        document.querySelector('#df-6cea6e7c-49a6-4030-a6bb-5ec7dc0591c0 button');\n",
              "      quickchartButtonEl.style.display =\n",
              "        google.colab.kernel.accessAllowed ? 'block' : 'none';\n",
              "    })();\n",
              "  </script>\n",
              "</div>\n",
              "\n",
              "    </div>\n",
              "  </div>\n"
            ],
            "application/vnd.google.colaboratory.intrinsic+json": {
              "type": "dataframe",
              "variable_name": "final_df",
              "summary": "{\n  \"name\": \"final_df\",\n  \"rows\": 127,\n  \"fields\": [\n    {\n      \"column\": \"priceMod\",\n      \"properties\": {\n        \"dtype\": \"number\",\n        \"std\": 768.3805845651424,\n        \"min\": 300.0,\n        \"max\": 4800.0,\n        \"num_unique_values\": 126,\n        \"samples\": [\n          855.0,\n          378.0,\n          1914.0\n        ],\n        \"semantic_type\": \"\",\n        \"description\": \"\"\n      }\n    }\n  ]\n}"
            }
          },
          "metadata": {},
          "execution_count": 21
        }
      ]
    },
    {
      "cell_type": "code",
      "source": [
        "train = final_df.iloc[:100]\n",
        "test = final_df.iloc[100:]"
      ],
      "metadata": {
        "id": "dXKzCoM4E8v0"
      },
      "execution_count": 24,
      "outputs": []
    },
    {
      "cell_type": "code",
      "source": [
        "#Lets normalize the data\n",
        "from sklearn.preprocessing import MinMaxScaler\n",
        "scaler=MinMaxScaler()\n",
        "scaled_train=scaler.fit_transform(train)\n",
        "scaled_test = scaler.transform(test)\n"
      ],
      "metadata": {
        "id": "5fHh_YOnFRv2"
      },
      "execution_count": 25,
      "outputs": []
    },
    {
      "cell_type": "code",
      "source": [
        "generator = TimeseriesGenerator(scaled_train,scaled_train,length=12,batch_size=32)"
      ],
      "metadata": {
        "id": "P1-7RwKyFX77"
      },
      "execution_count": 126,
      "outputs": []
    },
    {
      "cell_type": "code",
      "source": [
        "model=Sequential()\n",
        "model.add(LSTM(units=200,kernel_initializer=\"he_normal\",input_shape=(12,1)))\n",
        "model.add(tf.keras.layers.LeakyReLU(alpha=0.2))\n",
        "model.add(Dense(1))"
      ],
      "metadata": {
        "id": "mxsSP7LMFmz1"
      },
      "execution_count": 136,
      "outputs": []
    },
    {
      "cell_type": "code",
      "source": [
        "from tensorflow.keras.losses import MeanSquaredError\n",
        "from tensorflow.keras.callbacks import EarlyStopping\n",
        "model.compile(optimizer='adam',loss='mse',metrics=MeanSquaredError())"
      ],
      "metadata": {
        "id": "ht2TFt7ZFshq"
      },
      "execution_count": 137,
      "outputs": []
    },
    {
      "cell_type": "code",
      "source": [
        "model.fit(generator,epochs=100)"
      ],
      "metadata": {
        "colab": {
          "base_uri": "https://localhost:8080/"
        },
        "id": "99zSblDOFyuR",
        "outputId": "fd74dab1-1056-4ec4-cf15-bc41eacd7212"
      },
      "execution_count": 138,
      "outputs": [
        {
          "output_type": "stream",
          "name": "stdout",
          "text": [
            "Epoch 1/100\n",
            "3/3 [==============================] - 2s 25ms/step - loss: 0.1056 - mean_squared_error: 0.1112\n",
            "Epoch 2/100\n",
            "3/3 [==============================] - 0s 24ms/step - loss: 0.0461 - mean_squared_error: 0.0507\n",
            "Epoch 3/100\n",
            "3/3 [==============================] - 0s 25ms/step - loss: 0.0436 - mean_squared_error: 0.0418\n",
            "Epoch 4/100\n",
            "3/3 [==============================] - 0s 22ms/step - loss: 0.0312 - mean_squared_error: 0.0298\n",
            "Epoch 5/100\n",
            "3/3 [==============================] - 0s 24ms/step - loss: 0.0335 - mean_squared_error: 0.0316\n",
            "Epoch 6/100\n",
            "3/3 [==============================] - 0s 24ms/step - loss: 0.0257 - mean_squared_error: 0.0250\n",
            "Epoch 7/100\n",
            "3/3 [==============================] - 0s 23ms/step - loss: 0.0156 - mean_squared_error: 0.0150\n",
            "Epoch 8/100\n",
            "3/3 [==============================] - 0s 23ms/step - loss: 0.0191 - mean_squared_error: 0.0186\n",
            "Epoch 9/100\n",
            "3/3 [==============================] - 0s 22ms/step - loss: 0.0153 - mean_squared_error: 0.0147\n",
            "Epoch 10/100\n",
            "3/3 [==============================] - 0s 28ms/step - loss: 0.0123 - mean_squared_error: 0.0118\n",
            "Epoch 11/100\n",
            "3/3 [==============================] - 0s 22ms/step - loss: 0.0143 - mean_squared_error: 0.0140\n",
            "Epoch 12/100\n",
            "3/3 [==============================] - 0s 28ms/step - loss: 0.0115 - mean_squared_error: 0.0111\n",
            "Epoch 13/100\n",
            "3/3 [==============================] - 0s 24ms/step - loss: 0.0117 - mean_squared_error: 0.0112\n",
            "Epoch 14/100\n",
            "3/3 [==============================] - 0s 25ms/step - loss: 0.0114 - mean_squared_error: 0.0110\n",
            "Epoch 15/100\n",
            "3/3 [==============================] - 0s 25ms/step - loss: 0.0092 - mean_squared_error: 0.0090\n",
            "Epoch 16/100\n",
            "3/3 [==============================] - 0s 23ms/step - loss: 0.0101 - mean_squared_error: 0.0099\n",
            "Epoch 17/100\n",
            "3/3 [==============================] - 0s 23ms/step - loss: 0.0093 - mean_squared_error: 0.0092\n",
            "Epoch 18/100\n",
            "3/3 [==============================] - 0s 22ms/step - loss: 0.0090 - mean_squared_error: 0.0088\n",
            "Epoch 19/100\n",
            "3/3 [==============================] - 0s 24ms/step - loss: 0.0087 - mean_squared_error: 0.0085\n",
            "Epoch 20/100\n",
            "3/3 [==============================] - 0s 23ms/step - loss: 0.0081 - mean_squared_error: 0.0079\n",
            "Epoch 21/100\n",
            "3/3 [==============================] - 0s 44ms/step - loss: 0.0081 - mean_squared_error: 0.0080\n",
            "Epoch 22/100\n",
            "3/3 [==============================] - 0s 47ms/step - loss: 0.0079 - mean_squared_error: 0.0077\n",
            "Epoch 23/100\n",
            "3/3 [==============================] - 0s 37ms/step - loss: 0.0078 - mean_squared_error: 0.0076\n",
            "Epoch 24/100\n",
            "3/3 [==============================] - 0s 45ms/step - loss: 0.0076 - mean_squared_error: 0.0074\n",
            "Epoch 25/100\n",
            "3/3 [==============================] - 0s 47ms/step - loss: 0.0074 - mean_squared_error: 0.0072\n",
            "Epoch 26/100\n",
            "3/3 [==============================] - 0s 41ms/step - loss: 0.0073 - mean_squared_error: 0.0071\n",
            "Epoch 27/100\n",
            "3/3 [==============================] - 0s 41ms/step - loss: 0.0072 - mean_squared_error: 0.0070\n",
            "Epoch 28/100\n",
            "3/3 [==============================] - 0s 45ms/step - loss: 0.0071 - mean_squared_error: 0.0069\n",
            "Epoch 29/100\n",
            "3/3 [==============================] - 0s 42ms/step - loss: 0.0071 - mean_squared_error: 0.0069\n",
            "Epoch 30/100\n",
            "3/3 [==============================] - 0s 46ms/step - loss: 0.0069 - mean_squared_error: 0.0067\n",
            "Epoch 31/100\n",
            "3/3 [==============================] - 0s 43ms/step - loss: 0.0069 - mean_squared_error: 0.0067\n",
            "Epoch 32/100\n",
            "3/3 [==============================] - 0s 22ms/step - loss: 0.0067 - mean_squared_error: 0.0066\n",
            "Epoch 33/100\n",
            "3/3 [==============================] - 0s 22ms/step - loss: 0.0068 - mean_squared_error: 0.0066\n",
            "Epoch 34/100\n",
            "3/3 [==============================] - 0s 24ms/step - loss: 0.0067 - mean_squared_error: 0.0065\n",
            "Epoch 35/100\n",
            "3/3 [==============================] - 0s 22ms/step - loss: 0.0068 - mean_squared_error: 0.0066\n",
            "Epoch 36/100\n",
            "3/3 [==============================] - 0s 24ms/step - loss: 0.0067 - mean_squared_error: 0.0066\n",
            "Epoch 37/100\n",
            "3/3 [==============================] - 0s 23ms/step - loss: 0.0065 - mean_squared_error: 0.0063\n",
            "Epoch 38/100\n",
            "3/3 [==============================] - 0s 22ms/step - loss: 0.0064 - mean_squared_error: 0.0062\n",
            "Epoch 39/100\n",
            "3/3 [==============================] - 0s 23ms/step - loss: 0.0063 - mean_squared_error: 0.0061\n",
            "Epoch 40/100\n",
            "3/3 [==============================] - 0s 29ms/step - loss: 0.0066 - mean_squared_error: 0.0064\n",
            "Epoch 41/100\n",
            "3/3 [==============================] - 0s 22ms/step - loss: 0.0063 - mean_squared_error: 0.0062\n",
            "Epoch 42/100\n",
            "3/3 [==============================] - 0s 23ms/step - loss: 0.0062 - mean_squared_error: 0.0061\n",
            "Epoch 43/100\n",
            "3/3 [==============================] - 0s 23ms/step - loss: 0.0061 - mean_squared_error: 0.0059\n",
            "Epoch 44/100\n",
            "3/3 [==============================] - 0s 24ms/step - loss: 0.0060 - mean_squared_error: 0.0058\n",
            "Epoch 45/100\n",
            "3/3 [==============================] - 0s 24ms/step - loss: 0.0059 - mean_squared_error: 0.0058\n",
            "Epoch 46/100\n",
            "3/3 [==============================] - 0s 43ms/step - loss: 0.0059 - mean_squared_error: 0.0057\n",
            "Epoch 47/100\n",
            "3/3 [==============================] - 0s 26ms/step - loss: 0.0057 - mean_squared_error: 0.0055\n",
            "Epoch 48/100\n",
            "3/3 [==============================] - 0s 24ms/step - loss: 0.0056 - mean_squared_error: 0.0054\n",
            "Epoch 49/100\n",
            "3/3 [==============================] - 0s 23ms/step - loss: 0.0057 - mean_squared_error: 0.0055\n",
            "Epoch 50/100\n",
            "3/3 [==============================] - 0s 23ms/step - loss: 0.0057 - mean_squared_error: 0.0055\n",
            "Epoch 51/100\n",
            "3/3 [==============================] - 0s 22ms/step - loss: 0.0058 - mean_squared_error: 0.0057\n",
            "Epoch 52/100\n",
            "3/3 [==============================] - 0s 22ms/step - loss: 0.0056 - mean_squared_error: 0.0055\n",
            "Epoch 53/100\n",
            "3/3 [==============================] - 0s 24ms/step - loss: 0.0057 - mean_squared_error: 0.0055\n",
            "Epoch 54/100\n",
            "3/3 [==============================] - 0s 24ms/step - loss: 0.0054 - mean_squared_error: 0.0053\n",
            "Epoch 55/100\n",
            "3/3 [==============================] - 0s 31ms/step - loss: 0.0052 - mean_squared_error: 0.0050\n",
            "Epoch 56/100\n",
            "3/3 [==============================] - 0s 22ms/step - loss: 0.0054 - mean_squared_error: 0.0052\n",
            "Epoch 57/100\n",
            "3/3 [==============================] - 0s 23ms/step - loss: 0.0052 - mean_squared_error: 0.0051\n",
            "Epoch 58/100\n",
            "3/3 [==============================] - 0s 24ms/step - loss: 0.0054 - mean_squared_error: 0.0053\n",
            "Epoch 59/100\n",
            "3/3 [==============================] - 0s 22ms/step - loss: 0.0053 - mean_squared_error: 0.0052\n",
            "Epoch 60/100\n",
            "3/3 [==============================] - 0s 22ms/step - loss: 0.0051 - mean_squared_error: 0.0050\n",
            "Epoch 61/100\n",
            "3/3 [==============================] - 0s 24ms/step - loss: 0.0054 - mean_squared_error: 0.0052\n",
            "Epoch 62/100\n",
            "3/3 [==============================] - 0s 26ms/step - loss: 0.0049 - mean_squared_error: 0.0047\n",
            "Epoch 63/100\n",
            "3/3 [==============================] - 0s 31ms/step - loss: 0.0047 - mean_squared_error: 0.0045\n",
            "Epoch 64/100\n",
            "3/3 [==============================] - 0s 22ms/step - loss: 0.0047 - mean_squared_error: 0.0045\n",
            "Epoch 65/100\n",
            "3/3 [==============================] - 0s 22ms/step - loss: 0.0047 - mean_squared_error: 0.0046\n",
            "Epoch 66/100\n",
            "3/3 [==============================] - 0s 25ms/step - loss: 0.0047 - mean_squared_error: 0.0046\n",
            "Epoch 67/100\n",
            "3/3 [==============================] - 0s 24ms/step - loss: 0.0043 - mean_squared_error: 0.0042\n",
            "Epoch 68/100\n",
            "3/3 [==============================] - 0s 25ms/step - loss: 0.0044 - mean_squared_error: 0.0043\n",
            "Epoch 69/100\n",
            "3/3 [==============================] - 0s 23ms/step - loss: 0.0043 - mean_squared_error: 0.0042\n",
            "Epoch 70/100\n",
            "3/3 [==============================] - 0s 25ms/step - loss: 0.0043 - mean_squared_error: 0.0042\n",
            "Epoch 71/100\n",
            "3/3 [==============================] - 0s 24ms/step - loss: 0.0039 - mean_squared_error: 0.0038\n",
            "Epoch 72/100\n",
            "3/3 [==============================] - 0s 23ms/step - loss: 0.0040 - mean_squared_error: 0.0039\n",
            "Epoch 73/100\n",
            "3/3 [==============================] - 0s 23ms/step - loss: 0.0051 - mean_squared_error: 0.0049\n",
            "Epoch 74/100\n",
            "3/3 [==============================] - 0s 24ms/step - loss: 0.0051 - mean_squared_error: 0.0049\n",
            "Epoch 75/100\n",
            "3/3 [==============================] - 0s 23ms/step - loss: 0.0041 - mean_squared_error: 0.0039\n",
            "Epoch 76/100\n",
            "3/3 [==============================] - 0s 22ms/step - loss: 0.0045 - mean_squared_error: 0.0044\n",
            "Epoch 77/100\n",
            "3/3 [==============================] - 0s 24ms/step - loss: 0.0038 - mean_squared_error: 0.0038\n",
            "Epoch 78/100\n",
            "3/3 [==============================] - 0s 24ms/step - loss: 0.0053 - mean_squared_error: 0.0051\n",
            "Epoch 79/100\n",
            "3/3 [==============================] - 0s 22ms/step - loss: 0.0058 - mean_squared_error: 0.0061\n",
            "Epoch 80/100\n",
            "3/3 [==============================] - 0s 23ms/step - loss: 0.0046 - mean_squared_error: 0.0045\n",
            "Epoch 81/100\n",
            "3/3 [==============================] - 0s 23ms/step - loss: 0.0048 - mean_squared_error: 0.0047\n",
            "Epoch 82/100\n",
            "3/3 [==============================] - 0s 22ms/step - loss: 0.0048 - mean_squared_error: 0.0048\n",
            "Epoch 83/100\n",
            "3/3 [==============================] - 0s 23ms/step - loss: 0.0039 - mean_squared_error: 0.0037\n",
            "Epoch 84/100\n",
            "3/3 [==============================] - 0s 24ms/step - loss: 0.0032 - mean_squared_error: 0.0031\n",
            "Epoch 85/100\n",
            "3/3 [==============================] - 0s 24ms/step - loss: 0.0033 - mean_squared_error: 0.0032\n",
            "Epoch 86/100\n",
            "3/3 [==============================] - 0s 24ms/step - loss: 0.0031 - mean_squared_error: 0.0030\n",
            "Epoch 87/100\n",
            "3/3 [==============================] - 0s 24ms/step - loss: 0.0032 - mean_squared_error: 0.0031\n",
            "Epoch 88/100\n",
            "3/3 [==============================] - 0s 24ms/step - loss: 0.0029 - mean_squared_error: 0.0029\n",
            "Epoch 89/100\n",
            "3/3 [==============================] - 0s 27ms/step - loss: 0.0028 - mean_squared_error: 0.0028\n",
            "Epoch 90/100\n",
            "3/3 [==============================] - 0s 22ms/step - loss: 0.0028 - mean_squared_error: 0.0028\n",
            "Epoch 91/100\n",
            "3/3 [==============================] - 0s 24ms/step - loss: 0.0026 - mean_squared_error: 0.0025\n",
            "Epoch 92/100\n",
            "3/3 [==============================] - 0s 22ms/step - loss: 0.0028 - mean_squared_error: 0.0028\n",
            "Epoch 93/100\n",
            "3/3 [==============================] - 0s 22ms/step - loss: 0.0025 - mean_squared_error: 0.0025\n",
            "Epoch 94/100\n",
            "3/3 [==============================] - 0s 23ms/step - loss: 0.0024 - mean_squared_error: 0.0024\n",
            "Epoch 95/100\n",
            "3/3 [==============================] - 0s 24ms/step - loss: 0.0023 - mean_squared_error: 0.0022\n",
            "Epoch 96/100\n",
            "3/3 [==============================] - 0s 31ms/step - loss: 0.0026 - mean_squared_error: 0.0026\n",
            "Epoch 97/100\n",
            "3/3 [==============================] - 0s 29ms/step - loss: 0.0025 - mean_squared_error: 0.0024\n",
            "Epoch 98/100\n",
            "3/3 [==============================] - 0s 23ms/step - loss: 0.0036 - mean_squared_error: 0.0035\n",
            "Epoch 99/100\n",
            "3/3 [==============================] - 0s 22ms/step - loss: 0.0032 - mean_squared_error: 0.0032\n",
            "Epoch 100/100\n",
            "3/3 [==============================] - 0s 23ms/step - loss: 0.0047 - mean_squared_error: 0.0049\n"
          ]
        },
        {
          "output_type": "execute_result",
          "data": {
            "text/plain": [
              "<keras.src.callbacks.History at 0x7d46a7551120>"
            ]
          },
          "metadata": {},
          "execution_count": 138
        }
      ]
    },
    {
      "cell_type": "code",
      "source": [
        "# For predicting the first value of test data, we need the last 12 values of train data\n",
        "# given that the data is sequential\n",
        "last_train = scaled_train[-12:]\n",
        "last_train"
      ],
      "metadata": {
        "colab": {
          "base_uri": "https://localhost:8080/"
        },
        "id": "yqJMQtK2F1zx",
        "outputId": "2bb5eabc-6827-4b8d-86c0-b1a7d9d8c794"
      },
      "execution_count": 148,
      "outputs": [
        {
          "output_type": "execute_result",
          "data": {
            "text/plain": [
              "array([[0.06383658],\n",
              "       [0.08203   ],\n",
              "       [0.12543888],\n",
              "       [0.15512289],\n",
              "       [0.15161187],\n",
              "       [0.19948931],\n",
              "       [0.27130546],\n",
              "       [0.30960741],\n",
              "       [0.41653367],\n",
              "       [0.42419406],\n",
              "       [0.24896266],\n",
              "       [0.23459943]])"
            ]
          },
          "metadata": {},
          "execution_count": 148
        }
      ]
    },
    {
      "cell_type": "code",
      "source": [
        "last_train = last_train.reshape((1,12,1))\n",
        "scaler.inverse_transform(model.predict(last_train))"
      ],
      "metadata": {
        "colab": {
          "base_uri": "https://localhost:8080/"
        },
        "id": "cXZBFjCpGBpb",
        "outputId": "82ecb7e9-3dac-4d4c-8126-54d969371b02"
      },
      "execution_count": 149,
      "outputs": [
        {
          "output_type": "stream",
          "name": "stdout",
          "text": [
            "1/1 [==============================] - 0s 23ms/step\n"
          ]
        },
        {
          "output_type": "execute_result",
          "data": {
            "text/plain": [
              "array([[1173.1287]], dtype=float32)"
            ]
          },
          "metadata": {},
          "execution_count": 149
        }
      ]
    },
    {
      "cell_type": "code",
      "source": [
        "scaler.inverse_transform(scaled_test[0].reshape(-1,1))"
      ],
      "metadata": {
        "colab": {
          "base_uri": "https://localhost:8080/"
        },
        "id": "KIel3On-GKWZ",
        "outputId": "6f62b321-1dd1-4083-fa57-afdf2a3e9ac7"
      },
      "execution_count": 150,
      "outputs": [
        {
          "output_type": "execute_result",
          "data": {
            "text/plain": [
              "array([[814.]])"
            ]
          },
          "metadata": {},
          "execution_count": 150
        }
      ]
    },
    {
      "cell_type": "code",
      "source": [
        "scaled_final=scaler.transform(final_df)\n",
        "full_data_generator=TimeseriesGenerator(scaled_final,scaled_final,length=12,batch_size=1)"
      ],
      "metadata": {
        "id": "UYbAv2EkGRNZ"
      },
      "execution_count": 151,
      "outputs": []
    },
    {
      "cell_type": "code",
      "source": [
        "full_data_preds=model.predict(full_data_generator)"
      ],
      "metadata": {
        "colab": {
          "base_uri": "https://localhost:8080/"
        },
        "id": "9d_BaN0OH5rv",
        "outputId": "a5f5efde-ac81-4929-d66d-fabe72a8dc3d"
      },
      "execution_count": 152,
      "outputs": [
        {
          "output_type": "stream",
          "name": "stdout",
          "text": [
            "115/115 [==============================] - 0s 4ms/step\n"
          ]
        }
      ]
    },
    {
      "cell_type": "code",
      "source": [
        "full_data_preds.shape,final_df.shape[0]-12"
      ],
      "metadata": {
        "colab": {
          "base_uri": "https://localhost:8080/"
        },
        "id": "nGfjnyuHkCk7",
        "outputId": "6a1a2336-66d3-4b8f-ae9b-b31b5ffbfe06"
      },
      "execution_count": 158,
      "outputs": [
        {
          "output_type": "execute_result",
          "data": {
            "text/plain": [
              "((115, 1), 115)"
            ]
          },
          "metadata": {},
          "execution_count": 158
        }
      ]
    },
    {
      "cell_type": "code",
      "source": [
        "predicted_data=scaler.inverse_transform(full_data_preds)"
      ],
      "metadata": {
        "id": "i3alvJ42INZV"
      },
      "execution_count": 153,
      "outputs": []
    },
    {
      "cell_type": "code",
      "source": [
        "result_df=pd.DataFrame(list(zip(predicted_data.reshape(-1),final_df[12:].values.reshape(-1))),\n",
        "                       index=final_df.index[12:],\n",
        "                       columns=[\"Predicted\",\"Actual\"])"
      ],
      "metadata": {
        "id": "0BLhEmUqIjgs"
      },
      "execution_count": 159,
      "outputs": []
    },
    {
      "cell_type": "code",
      "source": [
        "result_df.plot()"
      ],
      "metadata": {
        "colab": {
          "base_uri": "https://localhost:8080/",
          "height": 451
        },
        "id": "Emy08lS_JU87",
        "outputId": "f03c7802-a352-4750-c0d1-392fe853ded4"
      },
      "execution_count": 160,
      "outputs": [
        {
          "output_type": "execute_result",
          "data": {
            "text/plain": [
              "<Axes: >"
            ]
          },
          "metadata": {},
          "execution_count": 160
        },
        {
          "output_type": "display_data",
          "data": {
            "text/plain": [
              "<Figure size 640x480 with 1 Axes>"
            ],
            "image/png": "[encoded data removed]"
          },
          "metadata": {}
        }
      ]
    },
    {
      "cell_type": "code",
      "source": [],
      "metadata": {
        "colab": {
          "base_uri": "https://localhost:8080/"
        },
        "id": "m7Ct3BF0K2qp",
        "outputId": "263061d2-a7e8-453e-990e-71891b116ee8"
      },
      "execution_count": 118,
      "outputs": [
        {
          "output_type": "execute_result",
          "data": {
            "text/plain": [
              "(array([[[0.0466007 ],\n",
              "         [0.00766039],\n",
              "         [0.00702202],\n",
              "         [0.03143951],\n",
              "         [0.05585701],\n",
              "         [0.00574529],\n",
              "         [0.01532078],\n",
              "         [0.0635174 ],\n",
              "         [0.21161826],\n",
              "         [0.29269071],\n",
              "         [0.12767316],\n",
              "         [0.09639323]]]),\n",
              " array([[0.0839451]]))"
            ]
          },
          "metadata": {},
          "execution_count": 118
        }
      ]
    },
    {
      "cell_type": "code",
      "source": [
        "scaled_final[12]"
      ],
      "metadata": {
        "colab": {
          "base_uri": "https://localhost:8080/"
        },
        "id": "1yrLgGEAPsr7",
        "outputId": "b96d7d65-7002-4f01-d59a-8b62378379fd"
      },
      "execution_count": 120,
      "outputs": [
        {
          "output_type": "execute_result",
          "data": {
            "text/plain": [
              "array([0.0839451])"
            ]
          },
          "metadata": {},
          "execution_count": 120
        }
      ]
    },
    {
      "cell_type": "code",
      "source": [],
      "metadata": {
        "id": "wXIeeYLCPwho"
      },
      "execution_count": null,
      "outputs": []
    }
  ]
}